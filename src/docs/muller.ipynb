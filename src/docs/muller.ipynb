{
 "cells": [
  {
   "cell_type": "markdown",
   "metadata": {},
   "source": [
    "# Método de Muller"
   ]
  },
  {
   "cell_type": "markdown",
   "metadata": {},
   "source": [
    "O Método de Muller tem como objetivo encontrar uma ou mais raízes de equações de uma variável. A vantagem do método é que ele leva em consideração que polinomio pode ter raízes complexas (ao contrário do método da secante ou de newton). \n",
    "\n",
    "O método é similar ao Método das Secantes, porém ao invés da aproximação ser feita po uma reta que passa por dois ponto, é feita pela parábola que passa por três pontos dados."
   ]
  },
  {
   "cell_type": "markdown",
   "metadata": {},
   "source": [
    "### Teorema:"
   ]
  },
  {
   "cell_type": "markdown",
   "metadata": {},
   "source": [
    "Se $z= a +bi$ for um complexo de multiplicidade $m$ do polinômio P(x) com coeficientes reais, então $\\bar{z}=a-bi$ também será um zero de multiplicidade $m$ do polinômio P(x), e $(x^2 - 2ax + a^2 + b^m)$ será um fator de P(x)"
   ]
  },
  {
   "cell_type": "markdown",
   "metadata": {},
   "source": [
    "Uma divisão sintética envolvendo polinômios quadráticos pode ser desenvolvida para fatorar o polinômio de forma aproximada, de modo que um dos termos será um polinômio quadrático cujas raízes complexas sejam aproximações das raízes do polinômio original. Essa técnica pode ser utilizada no caso de qualquer problema de determinação de raiz, mas é especialmente útil para a aproximação de raízes de polinômios."
   ]
  },
  {
   "cell_type": "markdown",
   "metadata": {},
   "source": [
    "## Dedução"
   ]
  },
  {
   "cell_type": "markdown",
   "metadata": {},
   "source": [
    "Acharemos uma aproximçaõ de $x_{k+1}$ utilizando as três últimas aproximações: \n"
   ]
  },
  {
   "cell_type": "markdown",
   "metadata": {},
   "source": [
    "Consideramos o polinômio: \n",
    "\n",
    "$P(x)=a(x-p_2)^2 + b(x-p_2)+c$\n",
    "\n",
    "que passa pelos pontos $(p-0, f (p_0)), (p_1, f (p_1))$ e $(p_2, f (p_2))$. As constantes a, b e c podem ser determinadas a partir das condições:\n",
    "\n",
    "$f(p_0)=a(p_0-p_2)^2 + b(p_0-p_2)+c $\n",
    "\n",
    "$f(p_1)=a(p_1-p_2)^2 + b(p_1-p_2)+c $\n",
    "\n",
    "$f(p_2)=a(0)^2 + b(0)+c $\n",
    "\n",
    "Assim, \n",
    "\n",
    "$c = f(p_2)$\n",
    "\n",
    "$b = \\frac{(p_0-p_2)^2[f(p_1)-f(p_2)]-(p_1-p_2)^2[f(p_0)-f(p_2)]}{(p_0-p_2)(p_1-p_2)(p_0-p_1)}$\n",
    "\n",
    "$a = \\frac{(p_1-p_2)^2[f(p_0)-f(p_2)]-(p_0-p_2)^2[f(p_1)-f(p_2)]}{(p_0-p_2)(p_1-p_2)(p_0-p_1)}$"
   ]
  },
  {
   "cell_type": "markdown",
   "metadata": {},
   "source": [
    "Para determinar $p_3$, um zero de P, aplicamos a fórmula quadrática a P(x)=0. Entratanto, por causa dos problemas de erro de arredondamento causados pela subtração de números próximos. Assim, procedemos de tal forma: "
   ]
  },
  {
   "cell_type": "markdown",
   "metadata": {},
   "source": [
    "$p_3-p_2 = \\frac{-2c}{b \\pm \\sqrt(b^2-4ac)}$"
   ]
  },
  {
   "cell_type": "markdown",
   "metadata": {},
   "source": [
    "Essa fórmula oferece dois resultados possíveis de $p_3$, dependendo do sinal que preceda o termo com o radical. No método de Müller, o sinal é escolhido de forma a coincidir com o sinal de b. Escolhido dessa forma, o denominador será o de maior módulo, o que resultará na escolha de $p_3$, como o zero de P mais próximo de $p_2$ . Assim,"
   ]
  },
  {
   "cell_type": "markdown",
   "metadata": {},
   "source": [
    "$p_3= p_2 - \\frac{2c}{b+sgn(b)\\sqrt(b^2-4ac)}$"
   ]
  },
  {
   "cell_type": "markdown",
   "metadata": {},
   "source": [
    "Após $p_3$, ter sido determinado, o procedimento é reinicializado, utilizando $p_1$, $p_2$, e $p_3$."
   ]
  },
  {
   "cell_type": "markdown",
   "metadata": {},
   "source": [
    "## Algoritmo"
   ]
  },
  {
   "cell_type": "markdown",
   "metadata": {},
   "source": [
    "Para determinar uma solução de $f(x)=0$, dadas três aproximações $p_0$, $p_1$, $p_2$:"
   ]
  },
  {
   "cell_type": "markdown",
   "metadata": {},
   "source": [
    "<font color=green> INPUT</font>  $p_0$, $p_1$, $p_2$, tolerância (tol), número máximo de iterações (N)\n",
    "\n",
    "<font color=RED> OUTPUT</font>  solução aproximada p ou mensagem de erro"
   ]
  },
  {
   "cell_type": "markdown",
   "metadata": {},
   "source": [
    "<font color=yellow> STEP 1</font> \n",
    "\n",
    "$h_1 := p_1-p_0 \\newline$\n",
    "$h_2 := p_2-p_1 \\newline$\n",
    "$\\delta_{1} = (f(p_1)-f(p_0))/h_1 \\newline$\n",
    "$\\delta_{2} = (f(p_2)-f(p_1))/h_2 \\newline$\n",
    "$d = (\\delta_{1} -\\delta_{2})/(h_2+h_1) \\newline$\n",
    "$i=3 \\newline$\n",
    "\n",
    "<font color=yellow> STEP 2</font> \n",
    "\n",
    "if $i\\le N$, then do STEPS 3-7 \n",
    "\n",
    "\n",
    "<font color=yellow> STEP 3</font> \n",
    "\n",
    "$b=\\delta_{2}+h_2 d \\newline$\n",
    "    \n",
    "$D=(b^2-4f(p_2)d)^{1/2}\\newline$\n",
    "    \n",
    "<font color=yellow> STEP 4</font> \n",
    "\n",
    " if $|b-D|<|b+D| \\newline$\n",
    " $E=b+D \\newline$\n",
    "else $E=b-D \\newline$\n",
    "<font color=yellow> STEP 5</font> \n",
    "\n",
    " $h=-2f(p_2)/E \\newline$\n",
    "$p=p_2+h \\newline$\n",
    "\n",
    "<font color=yellow> STEP 6</font> \n",
    "    \n",
    "$if |h|<tol \\newline$\n",
    "OUTPUT($p$)\n",
    "\n",
    "STOP \n",
    "\n",
    "<font color=yellow> STEP 7</font> \n",
    "\n",
    "$p_0=p_1 \\newline$\n",
    "$p_2=p \\newline$\n",
    "$h_1=p_1-p_0 \\newline$\n",
    "$h_2=p_2-p_1 \\newline$\n",
    "$\\delta_1=(f(p_1)-f(p_0)/h_1) \\newline$\n",
    "$\\delta_2=(f(p_2)-f(p_1)/h_2) \\newline$\n",
    "$d=(\\delta_2-\\delta_1)/(h_2+h_1) \\newline$\n",
    "$i=i+1 \\newline$\n",
    "\n",
    "<font color=yellow> STEP 8</font> \n",
    "    \n",
    "OUTPUT(Método falhou) \n",
    "    \n",
    "<font color=red> STOP</font> "
   ]
  }
 ],
 "metadata": {
  "language_info": {
   "name": "python"
  }
 },
 "nbformat": 4,
 "nbformat_minor": 2
}
