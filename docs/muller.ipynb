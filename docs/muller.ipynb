{
 "cells": [
  {
   "cell_type": "markdown",
   "metadata": {},
   "source": [
    "# Método de Muller"
   ]
  },
  {
   "cell_type": "markdown",
   "metadata": {},
   "source": [
    "O Método de Muller é um método utilizado para encontrar uma ou mais raízes de equações de uma variável baseado em uma aproximação quadrática."
   ]
  },
  {
   "cell_type": "markdown",
   "metadata": {},
   "source": [
    "O método é similar ao Método das Secantes, porém ao invés da aproximação ser feita po uma reta que passa por dois ponto, é feita pela parábola que passa por três pontos dados. "
   ]
  },
  {
   "cell_type": "markdown",
   "metadata": {},
   "source": [
    "## Estrutura do método"
   ]
  },
  {
   "cell_type": "markdown",
   "metadata": {},
   "source": [
    "Começando com os três valores inicias x0, x1, x2. "
   ]
  },
  {
   "cell_type": "markdown",
   "metadata": {},
   "source": [
    "A parábola y4(x) que passa pelos três pontos (x1, f(x1)), (x2, f(x2)), (x3, f(x3)) é dado por:"
   ]
  },
  {
   "cell_type": "markdown",
   "metadata": {},
   "source": [
    "y4 = f(x3)+(x-x3)f[x3, x2] + (x-x3)(x-x2)f[x3,x2,x1]"
   ]
  },
  {
   "cell_type": "markdown",
   "metadata": {},
   "source": [
    "onde f[x3, x2] e f[x3,x2,x1] denotam as diferenças divididas\n",
    "f[x3, x2] =\n"
   ]
  },
  {
   "cell_type": "markdown",
   "metadata": {},
   "source": []
  }
 ],
 "metadata": {
  "language_info": {
   "name": "python"
  }
 },
 "nbformat": 4,
 "nbformat_minor": 2
}
