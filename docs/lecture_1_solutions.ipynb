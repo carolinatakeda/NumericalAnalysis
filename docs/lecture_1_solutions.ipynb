{
 "cells": [
  {
   "cell_type": "markdown",
   "metadata": {},
   "source": [
    "# Lecture 1 - Solutions of Carolina Takeda Barbosa"
   ]
  },
  {
   "cell_type": "markdown",
   "metadata": {},
   "source": [
    "Starting in a new Terminal: \n",
    "\n",
    "$\\hspace{0.25cm}$ julia\n",
    "\n",
    "$\\hspace{0.25cm}$ <font color=\"#2196F3\"> pkg> </font> activate .\n",
    "\n",
    "$\\hspace{0.25cm}$ <font color=green> julia> </font> using NumericalAnalysis: round_sum, round_mul, trunc_sum, trunc_mul, absolute_error, relative_error, approximated_value_interval_given_relative_error\n"
   ]
  },
  {
   "cell_type": "markdown",
   "metadata": {},
   "source": [
    "## Exercice 3 \n",
    "Compute the absolute error in the following approximations"
   ]
  },
  {
   "cell_type": "markdown",
   "metadata": {},
   "source": [
    "a) $x = π$ and $x^{*} = 22 / 7$ $\\newline$"
   ]
  },
  {
   "cell_type": "markdown",
   "metadata": {},
   "source": [
    "In the terminal: \n",
    "\n",
    "$\\hspace{0.25cm}$ <font color=green> julia> </font> absolute_error(Float64(pi), 22/7)\n",
    "\n",
    "$\\hspace{0.25cm}$ 0.0012644892673496777"
   ]
  },
  {
   "cell_type": "markdown",
   "metadata": {},
   "source": [
    "b) $x = π$ and $x^{*} = 3.1415$ "
   ]
  },
  {
   "cell_type": "markdown",
   "metadata": {},
   "source": [
    "$\\hspace{0.25cm}$ <font color=green> julia> </font> absolute_error(Float64(pi), 3.1415)\n",
    "\n",
    "$\\hspace{0.25cm}$ 9.265358979293481e-5"
   ]
  },
  {
   "cell_type": "markdown",
   "metadata": {},
   "source": [
    "## Exercice 4\n",
    "Compute the relative error using the stirling approximation, $n! \\approx \\sqrt{2 \\pi n}(n / e)^n$"
   ]
  },
  {
   "cell_type": "markdown",
   "metadata": {},
   "source": [
    "a) 7!  $\\newline$\n",
    "$\\hspace{0.25cm}$ <font color=green> julia> </font> relative_error(Float64(factorial(7)), sqrt(2 * pi *7) * (7/exp(1))^7)\n",
    "0.011826223886416323"
   ]
  },
  {
   "cell_type": "markdown",
   "metadata": {},
   "source": [
    "b) 20! $\\newline$\n",
    "$\\hspace{0.25cm}$ <font color=green> julia> </font> relative_error(Float64(factorial(20)), sqrt(2 * pi *20) * (20/exp(1))^20)\n",
    "0.0041576526228797\n"
   ]
  },
  {
   "cell_type": "markdown",
   "metadata": {},
   "source": [
    "## Exercice 5"
   ]
  },
  {
   "cell_type": "markdown",
   "metadata": {},
   "source": [
    "Find the largest interval in which $x^{*}$ must lie to approximate $x$ with relative error at most $\\tau$"
   ]
  },
  {
   "cell_type": "markdown",
   "metadata": {},
   "source": [
    "a) $x = 10, \\, \\tau = 10^{-3}$ $\\newline$\n",
    "\n",
    "$\\hspace{0.25cm}$ <font color=green> julia> </font> approximated_value_interval_given_relative_error(10.0,0.001) $\\newline$\n",
    "(9.99, 10.01)\n",
    "\n",
    "b) $x = 100, \\, \\tau = 10^{-3}$ $\\newline$\n",
    "\n",
    "<font color=green> julia> </font> approximated_value_interval_given_relative_error(100.0,0.001) $\\newline$\n",
    "(99.9, 100.1)\n",
    "\n",
    "c) $x = -50, \\, \\tau = 10^{-3}$ $\\newline$\n",
    "\n",
    "<font color=green> julia> </font> approximated_value_interval_given_relative_error(-50.0,0.001) $\\newline$\n",
    "(-50.05, -49.95)\n",
    "\n",
    "d) $x = 10, \\, \\tau = 10^{-4}$ $\\newline$\n",
    "<font color=green> julia> </font> approximated_value_interval_given_relative_error(10.0,0.0001) $\\newline$\n",
    "(9.999, 10.001)\n",
    "\n",
    "e) $x = 100, \\, \\tau = 10^{-4}$ $\\newline$\n",
    "<font color=green> julia> </font> approximated_value_interval_given_relative_error(100.0,0.0001) $\\newline$\n",
    "\n",
    "(99.99, 100.01)\n",
    "\n",
    "f) $x = -50, \\, \\tau = 10^{-4}.$ $\\newline$\n",
    "<font color=green> julia> </font> approximated_value_interval_given_relative_error(10.0,0.001) $\\newline$\n",
    "\n",
    "(-50.005, -49.995)"
   ]
  },
  {
   "cell_type": "markdown",
   "metadata": {},
   "source": [
    "## Exercice 6"
   ]
  },
  {
   "cell_type": "markdown",
   "metadata": {},
   "source": [
    "Consider the expression $x = \\displaystyle \\frac{13/14 - 6/7}{2e - 5.4}$, then approximate $x$ using Finite Arithmetics (with chopp and round). Calculate the absolute and the relative erros in both cases."
   ]
  },
  {
   "cell_type": "markdown",
   "metadata": {},
   "source": [
    "* In this case, we will use arithmetic with 3 digits. If you wish to perform truncation and rounding with different digits, simply put d = the number of digits you desire."
   ]
  },
  {
   "cell_type": "markdown",
   "metadata": {},
   "source": [
    "### Chop"
   ]
  },
  {
   "cell_type": "markdown",
   "metadata": {},
   "source": [
    "<font color=green> julia> </font> x=(13/14 - 6/7)/(2*exp(1)-5*4) $\\newline$\n",
    "-0.0049046509179478314 $\\newline$\n",
    "\n",
    "<font color=green> julia> </font>x_t= trunc(trunc_sum(13/14,-6/7, digits=3)/trunc_sum(2*Float64(exp(1)),-20.0,digits=3), digits=3) $\\newline$\n",
    "-0.004 $\\newline$\n",
    "\n",
    "<font color=green> julia> </font> absolute_error(x,x_t) $\\newline$\n",
    "0.0009046509179478314 $\\newline$\n",
    "\n",
    "<font color=green> julia> </font> relative_error(x,x_t) $\\newline$\n",
    "0.18444756478741384"
   ]
  },
  {
   "cell_type": "markdown",
   "metadata": {},
   "source": [
    "### Round"
   ]
  },
  {
   "cell_type": "markdown",
   "metadata": {},
   "source": [
    " \n",
    "<font color=green> julia> </font> x=(13/14 - 6/7)/(2*exp(1)-5*4) $\\newline$\n",
    "-0.0049046509179478314 $\\newline$\n",
    "\n",
    "<font color=green> julia> </font>x_r = round(round_sum(13/14,-6/7, digits=3)/round_sum(2*exp(1),-20.0,digits=3), digits=3) $\\newline$\n",
    "-0.005 $\\newline$\n",
    "\n",
    "\n",
    "<font color=green> julia> </font> absolute_error(x,x_r) $\\newline$\n",
    "9.534908205216866e-5\n",
    "\n",
    "<font color=green> julia> </font> relative_error(x,x_r) $\\newline$\n",
    "0.01944054401573271"
   ]
  }
 ],
 "metadata": {
  "language_info": {
   "name": "python"
  }
 },
 "nbformat": 4,
 "nbformat_minor": 2
}
